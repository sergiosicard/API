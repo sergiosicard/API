{
 "cells": [
  {
   "cell_type": "code",
   "execution_count": 7,
   "id": "0f4ed223",
   "metadata": {},
   "outputs": [],
   "source": [
    "import requests\n",
    "import json\n",
    "\n",
    "def __get_deck__id():\n",
    "    response = requests.get(\"https://deckofcardsapi.com/api/deck/new/shuffle/?deck_count=6\")\n",
    "    deck_id = (response.json()['deck_id'])\n",
    "    return deck_id    \n",
    "\n",
    "def __draw_three_cards(deck_id):\n",
    "    #print(\"https://deckofcardsapi.com/api/deck/\"+__get_deck__id()+\"/draw/?count=2\")\n",
    "    url = \"https://deckofcardsapi.com/api/deck/\"+__get_deck__id()+\"/draw/?count=10\"\n",
    "    response = requests.get(url)\n",
    "    return response.json()\n",
    "    \n",
    "\n",
    "    \n",
    "\n",
    "\n",
    "    "
   ]
  },
  {
   "cell_type": "code",
   "execution_count": 8,
   "id": "eccabae0",
   "metadata": {},
   "outputs": [
    {
     "data": {
      "text/plain": [
       "{'success': True,\n",
       " 'deck_id': 'm96tgankgglx',\n",
       " 'cards': [{'code': 'QS',\n",
       "   'image': 'https://deckofcardsapi.com/static/img/QS.png',\n",
       "   'images': {'svg': 'https://deckofcardsapi.com/static/img/QS.svg',\n",
       "    'png': 'https://deckofcardsapi.com/static/img/QS.png'},\n",
       "   'value': 'QUEEN',\n",
       "   'suit': 'SPADES'},\n",
       "  {'code': 'QS',\n",
       "   'image': 'https://deckofcardsapi.com/static/img/QS.png',\n",
       "   'images': {'svg': 'https://deckofcardsapi.com/static/img/QS.svg',\n",
       "    'png': 'https://deckofcardsapi.com/static/img/QS.png'},\n",
       "   'value': 'QUEEN',\n",
       "   'suit': 'SPADES'},\n",
       "  {'code': '3H',\n",
       "   'image': 'https://deckofcardsapi.com/static/img/3H.png',\n",
       "   'images': {'svg': 'https://deckofcardsapi.com/static/img/3H.svg',\n",
       "    'png': 'https://deckofcardsapi.com/static/img/3H.png'},\n",
       "   'value': '3',\n",
       "   'suit': 'HEARTS'},\n",
       "  {'code': 'KD',\n",
       "   'image': 'https://deckofcardsapi.com/static/img/KD.png',\n",
       "   'images': {'svg': 'https://deckofcardsapi.com/static/img/KD.svg',\n",
       "    'png': 'https://deckofcardsapi.com/static/img/KD.png'},\n",
       "   'value': 'KING',\n",
       "   'suit': 'DIAMONDS'},\n",
       "  {'code': '6S',\n",
       "   'image': 'https://deckofcardsapi.com/static/img/6S.png',\n",
       "   'images': {'svg': 'https://deckofcardsapi.com/static/img/6S.svg',\n",
       "    'png': 'https://deckofcardsapi.com/static/img/6S.png'},\n",
       "   'value': '6',\n",
       "   'suit': 'SPADES'},\n",
       "  {'code': '0S',\n",
       "   'image': 'https://deckofcardsapi.com/static/img/0S.png',\n",
       "   'images': {'svg': 'https://deckofcardsapi.com/static/img/0S.svg',\n",
       "    'png': 'https://deckofcardsapi.com/static/img/0S.png'},\n",
       "   'value': '10',\n",
       "   'suit': 'SPADES'},\n",
       "  {'code': '9S',\n",
       "   'image': 'https://deckofcardsapi.com/static/img/9S.png',\n",
       "   'images': {'svg': 'https://deckofcardsapi.com/static/img/9S.svg',\n",
       "    'png': 'https://deckofcardsapi.com/static/img/9S.png'},\n",
       "   'value': '9',\n",
       "   'suit': 'SPADES'},\n",
       "  {'code': '3D',\n",
       "   'image': 'https://deckofcardsapi.com/static/img/3D.png',\n",
       "   'images': {'svg': 'https://deckofcardsapi.com/static/img/3D.svg',\n",
       "    'png': 'https://deckofcardsapi.com/static/img/3D.png'},\n",
       "   'value': '3',\n",
       "   'suit': 'DIAMONDS'},\n",
       "  {'code': '8C',\n",
       "   'image': 'https://deckofcardsapi.com/static/img/8C.png',\n",
       "   'images': {'svg': 'https://deckofcardsapi.com/static/img/8C.svg',\n",
       "    'png': 'https://deckofcardsapi.com/static/img/8C.png'},\n",
       "   'value': '8',\n",
       "   'suit': 'CLUBS'},\n",
       "  {'code': '0D',\n",
       "   'image': 'https://deckofcardsapi.com/static/img/0D.png',\n",
       "   'images': {'svg': 'https://deckofcardsapi.com/static/img/0D.svg',\n",
       "    'png': 'https://deckofcardsapi.com/static/img/0D.png'},\n",
       "   'value': '10',\n",
       "   'suit': 'DIAMONDS'}],\n",
       " 'remaining': 302}"
      ]
     },
     "execution_count": 8,
     "metadata": {},
     "output_type": "execute_result"
    }
   ],
   "source": [
    "__draw_three_cards(__get_deck__id())"
   ]
  },
  {
   "cell_type": "code",
   "execution_count": 9,
   "id": "6048fb02",
   "metadata": {},
   "outputs": [
    {
     "name": "stdout",
     "output_type": "stream",
     "text": [
      "Card Value: ACE, Card Suit: CLUBS\n",
      "Card Value: 4, Card Suit: CLUBS\n",
      "Card Value: 8, Card Suit: HEARTS\n",
      "Card Value: 8, Card Suit: HEARTS\n",
      "Card Value: ACE, Card Suit: HEARTS\n",
      "Card Value: ACE, Card Suit: SPADES\n",
      "Card Value: 7, Card Suit: CLUBS\n",
      "Card Value: 3, Card Suit: HEARTS\n",
      "Card Value: 4, Card Suit: DIAMONDS\n",
      "Card Value: 10, Card Suit: CLUBS\n"
     ]
    }
   ],
   "source": [
    "# Get deck_id\n",
    "deck_id = __get_deck__id()\n",
    "\n",
    "# Draw three cards\n",
    "\n",
    "\n",
    "drawn_cards_response = __draw_three_cards(deck_id)\n",
    "\n",
    "# Retrieve values of \"value\" and \"suit\" from each card\n",
    "for card in drawn_cards_response['cards']:\n",
    "    card_value = card['value']\n",
    "    card_suit = card['suit']\n",
    "    print(f\"Card Value: {card_value}, Card Suit: {card_suit}\")"
   ]
  },
  {
   "cell_type": "code",
   "execution_count": null,
   "id": "3f00557b",
   "metadata": {},
   "outputs": [],
   "source": []
  }
 ],
 "metadata": {
  "kernelspec": {
   "display_name": "Python 3 (ipykernel)",
   "language": "python",
   "name": "python3"
  },
  "language_info": {
   "codemirror_mode": {
    "name": "ipython",
    "version": 3
   },
   "file_extension": ".py",
   "mimetype": "text/x-python",
   "name": "python",
   "nbconvert_exporter": "python",
   "pygments_lexer": "ipython3",
   "version": "3.11.5"
  }
 },
 "nbformat": 4,
 "nbformat_minor": 5
}
