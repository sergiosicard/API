{
 "cells": [
  {
   "cell_type": "code",
   "execution_count": 3,
   "id": "0f4ed223",
   "metadata": {},
   "outputs": [],
   "source": [
    "import requests\n",
    "import json\n",
    "\n",
    "def __get_deck__id():\n",
    "    response = requests.get(\"https://deckofcardsapi.com/api/deck/new/shuffle/?deck_count=6\")\n",
    "    deck_id = (response.json()['deck_id'])\n",
    "    return deck_id    \n",
    "\n",
    "def __draw_three_cards(deck_id):\n",
    "    #print(\"https://deckofcardsapi.com/api/deck/\"+__get_deck__id()+\"/draw/?count=2\")\n",
    "    url = \"https://deckofcardsapi.com/api/deck/\"+__get_deck__id()+\"/draw/?count=10\"\n",
    "    response = requests.get(url)\n",
    "    return response.json()\n",
    "    \n",
    "\n",
    "    \n",
    "\n",
    "\n",
    "    "
   ]
  },
  {
   "cell_type": "code",
   "execution_count": 4,
   "id": "eccabae0",
   "metadata": {},
   "outputs": [],
   "source": [
    "#__draw_three_cards(__get_deck__id())"
   ]
  },
  {
   "cell_type": "code",
   "execution_count": 5,
   "id": "6048fb02",
   "metadata": {},
   "outputs": [
    {
     "name": "stdout",
     "output_type": "stream",
     "text": [
      "Card Value: ACE, Card Suit: SPADES\n",
      "Card Value: ACE, Card Suit: SPADES\n",
      "Card Value: 9, Card Suit: DIAMONDS\n",
      "Card Value: 3, Card Suit: DIAMONDS\n",
      "Card Value: 5, Card Suit: CLUBS\n",
      "Card Value: JACK, Card Suit: CLUBS\n",
      "Card Value: 4, Card Suit: HEARTS\n",
      "Card Value: 8, Card Suit: HEARTS\n",
      "Card Value: 10, Card Suit: SPADES\n",
      "Card Value: 10, Card Suit: HEARTS\n"
     ]
    }
   ],
   "source": [
    "# Get deck_id\n",
    "deck_id = __get_deck__id()\n",
    "\n",
    "# Draw three cards\n",
    "\n",
    "\n",
    "drawn_cards_response = __draw_three_cards(deck_id)\n",
    "\n",
    "# Retrieve values of \"value\" and \"suit\" from each card\n",
    "for card in drawn_cards_response['cards']:\n",
    "    card_value = card['value']\n",
    "    card_suit = card['suit']\n",
    "    print(f\"Card Value: {card_value}, Card Suit: {card_suit}\")"
   ]
  },
  {
   "cell_type": "code",
   "execution_count": null,
   "id": "3f00557b",
   "metadata": {},
   "outputs": [],
   "source": []
  }
 ],
 "metadata": {
  "kernelspec": {
   "display_name": "Python 3 (ipykernel)",
   "language": "python",
   "name": "python3"
  },
  "language_info": {
   "codemirror_mode": {
    "name": "ipython",
    "version": 3
   },
   "file_extension": ".py",
   "mimetype": "text/x-python",
   "name": "python",
   "nbconvert_exporter": "python",
   "pygments_lexer": "ipython3",
   "version": "3.9.7"
  }
 },
 "nbformat": 4,
 "nbformat_minor": 5
}
